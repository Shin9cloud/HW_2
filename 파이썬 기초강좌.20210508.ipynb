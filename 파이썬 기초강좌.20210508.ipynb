{
 "cells": [
  {
   "cell_type": "markdown",
   "id": "4c5065a7",
   "metadata": {},
   "source": [
    "### 2.1 파이썬을 계산기로 사용하기"
   ]
  },
  {
   "cell_type": "code",
   "execution_count": 3,
   "id": "20dfd94d",
   "metadata": {},
   "outputs": [
    {
     "data": {
      "text/plain": [
       "2"
      ]
     },
     "execution_count": 3,
     "metadata": {},
     "output_type": "execute_result"
    }
   ],
   "source": [
    "# 정수연산\n",
    "1+1"
   ]
  },
  {
   "cell_type": "code",
   "execution_count": 5,
   "id": "28c05c1d",
   "metadata": {},
   "outputs": [
    {
     "data": {
      "text/plain": [
       "2.75"
      ]
     },
     "execution_count": 5,
     "metadata": {},
     "output_type": "execute_result"
    }
   ],
   "source": [
    "11 / 4"
   ]
  },
  {
   "cell_type": "code",
   "execution_count": 6,
   "id": "c40b38b9",
   "metadata": {},
   "outputs": [
    {
     "data": {
      "text/plain": [
       "2"
      ]
     },
     "execution_count": 6,
     "metadata": {},
     "output_type": "execute_result"
    }
   ],
   "source": [
    "11 // 4\n",
    "#몫"
   ]
  },
  {
   "cell_type": "code",
   "execution_count": 7,
   "id": "07fcb237",
   "metadata": {},
   "outputs": [
    {
     "data": {
      "text/plain": [
       "3"
      ]
     },
     "execution_count": 7,
     "metadata": {},
     "output_type": "execute_result"
    }
   ],
   "source": [
    "11 % 4\n",
    "#나머지"
   ]
  },
  {
   "cell_type": "code",
   "execution_count": 8,
   "id": "bd46b89c",
   "metadata": {},
   "outputs": [
    {
     "data": {
      "text/plain": [
       "6"
      ]
     },
     "execution_count": 8,
     "metadata": {},
     "output_type": "execute_result"
    }
   ],
   "source": [
    "2 * 3"
   ]
  },
  {
   "cell_type": "code",
   "execution_count": 9,
   "id": "bebce7a5",
   "metadata": {},
   "outputs": [
    {
     "data": {
      "text/plain": [
       "8"
      ]
     },
     "execution_count": 9,
     "metadata": {},
     "output_type": "execute_result"
    }
   ],
   "source": [
    "2 ** 3\n",
    "# 2의 3승"
   ]
  },
  {
   "cell_type": "code",
   "execution_count": 12,
   "id": "0293649f",
   "metadata": {},
   "outputs": [
    {
     "data": {
      "text/plain": [
       "67"
      ]
     },
     "execution_count": 12,
     "metadata": {},
     "output_type": "execute_result"
    }
   ],
   "source": [
    "25 * 6 / 3 + 17\n",
    "# int(25 * 6 / 3 + 17)"
   ]
  },
  {
   "cell_type": "code",
   "execution_count": 14,
   "id": "af465c09",
   "metadata": {},
   "outputs": [
    {
     "data": {
      "text/plain": [
       "60"
      ]
     },
     "execution_count": 14,
     "metadata": {},
     "output_type": "execute_result"
    }
   ],
   "source": [
    "2 ** 6 - 10 % 6"
   ]
  },
  {
   "cell_type": "code",
   "execution_count": 68,
   "id": "a86bdf27",
   "metadata": {},
   "outputs": [
    {
     "data": {
      "text/plain": [
       "28580.0"
      ]
     },
     "execution_count": 68,
     "metadata": {},
     "output_type": "execute_result"
    }
   ],
   "source": [
    "48320 - ( (365 - 5 *9 )/16) * 987"
   ]
  },
  {
   "cell_type": "code",
   "execution_count": 21,
   "id": "aca82410",
   "metadata": {},
   "outputs": [
    {
     "data": {
      "text/plain": [
       "2"
      ]
     },
     "execution_count": 21,
     "metadata": {},
     "output_type": "execute_result"
    }
   ],
   "source": [
    "# 연산순서와 괄호\n",
    "## 괄호 칠때 텍스트블록쳐서 '(' 괄호 입력하면 양옆으로 입력됨\n",
    "## quote(\"\") 나 apostrophe ('')에도 적용됨\n",
    "[{(1+1)}]\n",
    "(((1+1)))"
   ]
  },
  {
   "cell_type": "code",
   "execution_count": 23,
   "id": "94a92a1c",
   "metadata": {},
   "outputs": [
    {
     "data": {
      "text/plain": [
       "False"
      ]
     },
     "execution_count": 23,
     "metadata": {},
     "output_type": "execute_result"
    }
   ],
   "source": [
    "# 부등식의 참과 거짓 계산\n",
    "2>3"
   ]
  },
  {
   "cell_type": "code",
   "execution_count": 24,
   "id": "fa903175",
   "metadata": {},
   "outputs": [
    {
     "data": {
      "text/plain": [
       "False"
      ]
     },
     "execution_count": 24,
     "metadata": {},
     "output_type": "execute_result"
    }
   ],
   "source": [
    "2>=3"
   ]
  },
  {
   "cell_type": "code",
   "execution_count": 25,
   "id": "7ac20778",
   "metadata": {},
   "outputs": [
    {
     "data": {
      "text/plain": [
       "True"
      ]
     },
     "execution_count": 25,
     "metadata": {},
     "output_type": "execute_result"
    }
   ],
   "source": [
    "2 != 3\n",
    "# 다르다 표시 !="
   ]
  },
  {
   "cell_type": "code",
   "execution_count": 28,
   "id": "8babdd5d",
   "metadata": {
    "scrolled": true
   },
   "outputs": [
    {
     "data": {
      "text/plain": [
       "False"
      ]
     },
     "execution_count": 28,
     "metadata": {},
     "output_type": "execute_result"
    }
   ],
   "source": [
    "# 2 = 3 \n",
    "## =표시는 변수 넣어주는걸 의미\n",
    "\n",
    "2 == 3"
   ]
  },
  {
   "cell_type": "code",
   "execution_count": 29,
   "id": "dd73beb0",
   "metadata": {},
   "outputs": [
    {
     "data": {
      "text/plain": [
       "True"
      ]
     },
     "execution_count": 29,
     "metadata": {},
     "output_type": "execute_result"
    }
   ],
   "source": [
    "#boolean 대수\n",
    "True | False\n",
    "# (|) 바 표시는 OR의 의미"
   ]
  },
  {
   "cell_type": "code",
   "execution_count": 30,
   "id": "0467a8af",
   "metadata": {},
   "outputs": [
    {
     "data": {
      "text/plain": [
       "False"
      ]
     },
     "execution_count": 30,
     "metadata": {},
     "output_type": "execute_result"
    }
   ],
   "source": [
    "True & False\n",
    "# (&) 앤드 표시는 AND의 의미"
   ]
  },
  {
   "cell_type": "code",
   "execution_count": 31,
   "id": "34c0ce2f",
   "metadata": {},
   "outputs": [
    {
     "data": {
      "text/plain": [
       "False"
      ]
     },
     "execution_count": 31,
     "metadata": {},
     "output_type": "execute_result"
    }
   ],
   "source": [
    "(5<=6) & (3==4)"
   ]
  },
  {
   "cell_type": "code",
   "execution_count": 32,
   "id": "6e7b6b95",
   "metadata": {},
   "outputs": [
    {
     "data": {
      "text/plain": [
       "True"
      ]
     },
     "execution_count": 32,
     "metadata": {},
     "output_type": "execute_result"
    }
   ],
   "source": [
    "(2!=1) | (3>=4)"
   ]
  },
  {
   "cell_type": "code",
   "execution_count": 33,
   "id": "b10e0d6c",
   "metadata": {},
   "outputs": [
    {
     "data": {
      "text/plain": [
       "True"
      ]
     },
     "execution_count": 33,
     "metadata": {},
     "output_type": "execute_result"
    }
   ],
   "source": [
    "(5<=6) & ((0 ==0) | (3<4))"
   ]
  },
  {
   "cell_type": "code",
   "execution_count": 46,
   "id": "09934a68",
   "metadata": {},
   "outputs": [],
   "source": [
    "x = 3\n",
    "y = 2\n",
    "z = 4"
   ]
  },
  {
   "cell_type": "code",
   "execution_count": 47,
   "id": "88da918f",
   "metadata": {},
   "outputs": [
    {
     "data": {
      "text/plain": [
       "1134"
      ]
     },
     "execution_count": 47,
     "metadata": {},
     "output_type": "execute_result"
    }
   ],
   "source": [
    "# 변수 사용하기\n",
    "x **(2*y) *(z+10)"
   ]
  },
  {
   "cell_type": "code",
   "execution_count": 48,
   "id": "f51baae2",
   "metadata": {},
   "outputs": [
    {
     "data": {
      "text/plain": [
       "523347633027360537213511521"
      ]
     },
     "execution_count": 48,
     "metadata": {},
     "output_type": "execute_result"
    }
   ],
   "source": [
    "x **((2*y) *(z+10))"
   ]
  },
  {
   "cell_type": "code",
   "execution_count": 49,
   "id": "8c1ed4b0",
   "metadata": {
    "scrolled": true
   },
   "outputs": [
    {
     "ename": "NameError",
     "evalue": "name 'x' is not defined",
     "output_type": "error",
     "traceback": [
      "\u001b[1;31m---------------------------------------------------------------------------\u001b[0m",
      "\u001b[1;31mNameError\u001b[0m                                 Traceback (most recent call last)",
      "\u001b[1;32m<ipython-input-49-2fede454e138>\u001b[0m in \u001b[0;36m<module>\u001b[1;34m\u001b[0m\n\u001b[0;32m      1\u001b[0m \u001b[0mx\u001b[0m \u001b[1;33m=\u001b[0m \u001b[1;36m2\u001b[0m \u001b[1;33m;\u001b[0m \u001b[0mz\u001b[0m \u001b[1;33m=\u001b[0m \u001b[1;36m4\u001b[0m \u001b[1;33m;\u001b[0m \u001b[0my\u001b[0m \u001b[1;33m=\u001b[0m \u001b[1;36m3\u001b[0m\u001b[1;33m\u001b[0m\u001b[1;33m\u001b[0m\u001b[0m\n\u001b[0;32m      2\u001b[0m \u001b[1;32mdel\u001b[0m \u001b[0mx\u001b[0m\u001b[1;33m,\u001b[0m \u001b[0my\u001b[0m\u001b[1;33m,\u001b[0m \u001b[0mz\u001b[0m \u001b[1;31m## 변수에 순서 바꿀때 쓰는 것\u001b[0m\u001b[1;33m\u001b[0m\u001b[1;33m\u001b[0m\u001b[0m\n\u001b[1;32m----> 3\u001b[1;33m \u001b[0mx\u001b[0m \u001b[1;33m**\u001b[0m\u001b[1;33m(\u001b[0m\u001b[1;33m(\u001b[0m\u001b[1;36m2\u001b[0m\u001b[1;33m*\u001b[0m\u001b[0my\u001b[0m\u001b[1;33m)\u001b[0m \u001b[1;33m*\u001b[0m\u001b[1;33m(\u001b[0m\u001b[0mz\u001b[0m\u001b[1;33m+\u001b[0m\u001b[1;36m10\u001b[0m\u001b[1;33m)\u001b[0m\u001b[1;33m)\u001b[0m\u001b[1;33m\u001b[0m\u001b[1;33m\u001b[0m\u001b[0m\n\u001b[0m",
      "\u001b[1;31mNameError\u001b[0m: name 'x' is not defined"
     ]
    }
   ],
   "source": [
    "x = 2 ; z = 4 ; y = 3\n",
    "del x, y, z ## 변수에 순서 바꿀때 쓰는 것\n",
    "x **((2*y) *(z+10))"
   ]
  },
  {
   "cell_type": "markdown",
   "id": "0861bbd1",
   "metadata": {},
   "source": [
    "### 2.2 부동소수점 실수 자료형"
   ]
  },
  {
   "cell_type": "code",
   "execution_count": 54,
   "id": "77d363aa",
   "metadata": {},
   "outputs": [
    {
     "data": {
      "text/plain": [
       "5600.0"
      ]
     },
     "execution_count": 54,
     "metadata": {},
     "output_type": "execute_result"
    }
   ],
   "source": [
    "# e3 는 10의 3승 즉, 1000을 의미\n",
    "5.6e3"
   ]
  },
  {
   "cell_type": "code",
   "execution_count": 55,
   "id": "e5e9285b",
   "metadata": {},
   "outputs": [
    {
     "data": {
      "text/plain": [
       "0.0056"
      ]
     },
     "execution_count": 55,
     "metadata": {},
     "output_type": "execute_result"
    }
   ],
   "source": [
    "# e-3 는 0.1의 3승 즉, 1000분의 1(0.001)을 의미\n",
    "5.6e-3"
   ]
  },
  {
   "cell_type": "code",
   "execution_count": 56,
   "id": "0ce09938",
   "metadata": {
    "scrolled": true
   },
   "outputs": [
    {
     "data": {
      "text/plain": [
       "3.141592"
      ]
     },
     "execution_count": 56,
     "metadata": {},
     "output_type": "execute_result"
    }
   ],
   "source": [
    "3141592e-6"
   ]
  },
  {
   "cell_type": "code",
   "execution_count": 60,
   "id": "76a4aa37",
   "metadata": {},
   "outputs": [
    {
     "data": {
      "text/plain": [
       "1234"
      ]
     },
     "execution_count": 60,
     "metadata": {},
     "output_type": "execute_result"
    }
   ],
   "source": [
    "1 * 10 ** 3 \\\n",
    "+ 2 * 10 ** 2 \\\n",
    "+ 3 * 10 ** 1 \\\n",
    "+ 4 * 10 ** 0"
   ]
  },
  {
   "cell_type": "code",
   "execution_count": 61,
   "id": "328aa991",
   "metadata": {},
   "outputs": [
    {
     "data": {
      "text/plain": [
       "'0b11'"
      ]
     },
     "execution_count": 61,
     "metadata": {},
     "output_type": "execute_result"
    }
   ],
   "source": [
    "# 이진법으로 표시\n",
    "bin(3)"
   ]
  },
  {
   "cell_type": "code",
   "execution_count": 62,
   "id": "068a74aa",
   "metadata": {},
   "outputs": [
    {
     "data": {
      "text/plain": [
       "'0b11110'"
      ]
     },
     "execution_count": 62,
     "metadata": {},
     "output_type": "execute_result"
    }
   ],
   "source": [
    "bin(30)"
   ]
  },
  {
   "cell_type": "code",
   "execution_count": 63,
   "id": "137543df",
   "metadata": {},
   "outputs": [
    {
     "data": {
      "text/plain": [
       "'0b1000'"
      ]
     },
     "execution_count": 63,
     "metadata": {},
     "output_type": "execute_result"
    }
   ],
   "source": [
    "bin(8)"
   ]
  },
  {
   "cell_type": "code",
   "execution_count": 67,
   "id": "a568fdae",
   "metadata": {},
   "outputs": [
    {
     "ename": "NameError",
     "evalue": "name 'e' is not defined",
     "output_type": "error",
     "traceback": [
      "\u001b[1;31m---------------------------------------------------------------------------\u001b[0m",
      "\u001b[1;31mNameError\u001b[0m                                 Traceback (most recent call last)",
      "\u001b[1;32m<ipython-input-67-de625a5d184f>\u001b[0m in \u001b[0;36m<module>\u001b[1;34m\u001b[0m\n\u001b[1;32m----> 1\u001b[1;33m \u001b[0mbin\u001b[0m\u001b[1;33m(\u001b[0m\u001b[1;36m8\u001b[0m\u001b[1;33m*\u001b[0m\u001b[0me\u001b[0m\u001b[1;33m-\u001b[0m\u001b[1;36m1\u001b[0m\u001b[1;33m)\u001b[0m\u001b[1;33m\u001b[0m\u001b[1;33m\u001b[0m\u001b[0m\n\u001b[0m",
      "\u001b[1;31mNameError\u001b[0m: name 'e' is not defined"
     ]
    }
   ],
   "source": [
    "bin(8*e-1)"
   ]
  },
  {
   "cell_type": "code",
   "execution_count": 72,
   "id": "a5113666",
   "metadata": {
    "scrolled": true
   },
   "outputs": [
    {
     "name": "stdout",
     "output_type": "stream",
     "text": [
      "**********\n",
      "*********\n",
      "********\n",
      "*******\n",
      "******\n",
      "*****\n",
      "****\n",
      "***\n",
      "**\n",
      "*\n"
     ]
    }
   ],
   "source": [
    "for i in range(10):\n",
    "    print('*'*(10-i))"
   ]
  },
  {
   "cell_type": "code",
   "execution_count": 73,
   "id": "d1623526",
   "metadata": {},
   "outputs": [
    {
     "data": {
      "text/plain": [
       "0.1"
      ]
     },
     "execution_count": 73,
     "metadata": {},
     "output_type": "execute_result"
    }
   ],
   "source": [
    "0.1"
   ]
  },
  {
   "cell_type": "code",
   "execution_count": 74,
   "id": "dc32d263",
   "metadata": {},
   "outputs": [
    {
     "data": {
      "text/plain": [
       "0.2"
      ]
     },
     "execution_count": 74,
     "metadata": {},
     "output_type": "execute_result"
    }
   ],
   "source": [
    "0.2"
   ]
  },
  {
   "cell_type": "code",
   "execution_count": 75,
   "id": "ea5e38b2",
   "metadata": {},
   "outputs": [
    {
     "data": {
      "text/plain": [
       "0.3"
      ]
     },
     "execution_count": 75,
     "metadata": {},
     "output_type": "execute_result"
    }
   ],
   "source": [
    "0.3"
   ]
  },
  {
   "cell_type": "code",
   "execution_count": 76,
   "id": "9d69fdda",
   "metadata": {},
   "outputs": [
    {
     "data": {
      "text/plain": [
       "False"
      ]
     },
     "execution_count": 76,
     "metadata": {},
     "output_type": "execute_result"
    }
   ],
   "source": [
    "0.1+0.2 == 0.3\n",
    "## ???"
   ]
  },
  {
   "cell_type": "code",
   "execution_count": 77,
   "id": "96653713",
   "metadata": {},
   "outputs": [
    {
     "data": {
      "text/plain": [
       "'%.55f'"
      ]
     },
     "execution_count": 77,
     "metadata": {},
     "output_type": "execute_result"
    }
   ],
   "source": [
    "%precision 55\n",
    "## 소수점 55자리까지 보겠다는 명령어(파이썬 문법x , 환경문법)"
   ]
  },
  {
   "cell_type": "code",
   "execution_count": 78,
   "id": "7f4972ff",
   "metadata": {},
   "outputs": [
    {
     "data": {
      "text/plain": [
       "0.1000000000000000055511151231257827021181583404541015625"
      ]
     },
     "execution_count": 78,
     "metadata": {},
     "output_type": "execute_result"
    }
   ],
   "source": [
    "0.1"
   ]
  },
  {
   "cell_type": "code",
   "execution_count": 79,
   "id": "9d0ccd3d",
   "metadata": {},
   "outputs": [
    {
     "data": {
      "text/plain": [
       "0.2000000000000000111022302462515654042363166809082031250"
      ]
     },
     "execution_count": 79,
     "metadata": {},
     "output_type": "execute_result"
    }
   ],
   "source": [
    "0.2"
   ]
  },
  {
   "cell_type": "code",
   "execution_count": 80,
   "id": "35e6a247",
   "metadata": {},
   "outputs": [
    {
     "data": {
      "text/plain": [
       "0.2999999999999999888977697537484345957636833190917968750"
      ]
     },
     "execution_count": 80,
     "metadata": {},
     "output_type": "execute_result"
    }
   ],
   "source": [
    "0.3"
   ]
  },
  {
   "cell_type": "code",
   "execution_count": 81,
   "id": "6bc75da4",
   "metadata": {},
   "outputs": [
    {
     "data": {
      "text/plain": [
       "True"
      ]
     },
     "execution_count": 81,
     "metadata": {},
     "output_type": "execute_result"
    }
   ],
   "source": [
    "round(0.1+0.2, 5) == round(0.3,5)"
   ]
  },
  {
   "cell_type": "code",
   "execution_count": 84,
   "id": "e05a4be6",
   "metadata": {},
   "outputs": [
    {
     "data": {
      "text/plain": [
       "'%r'"
      ]
     },
     "execution_count": 84,
     "metadata": {},
     "output_type": "execute_result"
    }
   ],
   "source": [
    "%precision %r\n",
    "#소수점 디폴트값으로 원위치"
   ]
  },
  {
   "cell_type": "code",
   "execution_count": 83,
   "id": "ae05a0c9",
   "metadata": {},
   "outputs": [
    {
     "data": {
      "text/plain": [
       "0.1"
      ]
     },
     "execution_count": 83,
     "metadata": {},
     "output_type": "execute_result"
    }
   ],
   "source": [
    "0.1"
   ]
  },
  {
   "cell_type": "code",
   "execution_count": 86,
   "id": "47464928",
   "metadata": {},
   "outputs": [
    {
     "data": {
      "text/plain": [
       "1.0"
      ]
     },
     "execution_count": 86,
     "metadata": {},
     "output_type": "execute_result"
    }
   ],
   "source": [
    "int(1.0) # 데이터 소실됨\n",
    "float(1) # 데이터 유지"
   ]
  },
  {
   "cell_type": "code",
   "execution_count": 87,
   "id": "a80d7de2",
   "metadata": {},
   "outputs": [],
   "source": [
    "# NaN은 null (값이 없다)"
   ]
  },
  {
   "cell_type": "markdown",
   "id": "c4a5176c",
   "metadata": {},
   "source": [
    "### 2.3 파이썬으로 글자를 출력하기"
   ]
  },
  {
   "cell_type": "code",
   "execution_count": 96,
   "id": "bcfeb170",
   "metadata": {},
   "outputs": [
    {
     "ename": "SyntaxError",
     "evalue": "invalid syntax (<ipython-input-96-0abd61e3107a>, line 1)",
     "output_type": "error",
     "traceback": [
      "\u001b[1;36m  File \u001b[1;32m\"<ipython-input-96-0abd61e3107a>\"\u001b[1;36m, line \u001b[1;32m1\u001b[0m\n\u001b[1;33m    print('루나가 '안녕하세요.'라고 말했습니다.')\u001b[0m\n\u001b[1;37m                ^\u001b[0m\n\u001b[1;31mSyntaxError\u001b[0m\u001b[1;31m:\u001b[0m invalid syntax\n"
     ]
    }
   ],
   "source": [
    "print('루나가 '안녕하세요.'라고 말했습니다.')"
   ]
  },
  {
   "cell_type": "code",
   "execution_count": 95,
   "id": "43b55853",
   "metadata": {},
   "outputs": [
    {
     "name": "stdout",
     "output_type": "stream",
     "text": [
      "루나가 \"안녕하세요.\"라고 말했습니다.\n"
     ]
    }
   ],
   "source": [
    "print('루나가 \"안녕하세요.\"라고 말했습니다.')"
   ]
  },
  {
   "cell_type": "code",
   "execution_count": 91,
   "id": "d4e75ea3",
   "metadata": {},
   "outputs": [],
   "source": [
    "a = 3"
   ]
  },
  {
   "cell_type": "code",
   "execution_count": 92,
   "id": "839d3c37",
   "metadata": {},
   "outputs": [
    {
     "data": {
      "text/plain": [
       "3"
      ]
     },
     "execution_count": 92,
     "metadata": {},
     "output_type": "execute_result"
    }
   ],
   "source": [
    "a"
   ]
  },
  {
   "cell_type": "markdown",
   "id": "29565a95",
   "metadata": {},
   "source": [
    "* print 메소드 없이 변수 a 입력만으로 3이 출력이 되는 이유는?\n",
    "* 주피터나 코랩, 파이썬에서 알아서 자동 메소드를 지원해서\n",
    "#### 우리는 게을러져야한다."
   ]
  },
  {
   "cell_type": "code",
   "execution_count": 93,
   "id": "6dbc4c5a",
   "metadata": {},
   "outputs": [
    {
     "name": "stdout",
     "output_type": "stream",
     "text": [
      "3\n"
     ]
    }
   ],
   "source": [
    "print(a)"
   ]
  },
  {
   "cell_type": "code",
   "execution_count": 97,
   "id": "6e1926c3",
   "metadata": {},
   "outputs": [
    {
     "name": "stdout",
     "output_type": "stream",
     "text": [
      "a의 값은3\n"
     ]
    }
   ],
   "source": [
    "print('a의 값은' +str(a))"
   ]
  },
  {
   "cell_type": "code",
   "execution_count": 99,
   "id": "02efdd44",
   "metadata": {},
   "outputs": [
    {
     "data": {
      "text/plain": [
       "'1.0'"
      ]
     },
     "execution_count": 99,
     "metadata": {},
     "output_type": "execute_result"
    }
   ],
   "source": [
    "# int(1.0)\n",
    "# float(1)\n",
    "str(1.0)"
   ]
  },
  {
   "cell_type": "code",
   "execution_count": 100,
   "id": "86d0d929",
   "metadata": {},
   "outputs": [
    {
     "name": "stdout",
     "output_type": "stream",
     "text": [
      "****************************************************************************************************\n"
     ]
    }
   ],
   "source": [
    "print(\"*\"*100)"
   ]
  },
  {
   "cell_type": "code",
   "execution_count": 101,
   "id": "d806419c",
   "metadata": {},
   "outputs": [
    {
     "name": "stdout",
     "output_type": "stream",
     "text": [
      "한 줄 쓰고\n",
      " 그 다음줄에 쓴다.\n"
     ]
    }
   ],
   "source": [
    "print(\"한 줄 쓰고\\n 그 다음줄에 쓴다.\")"
   ]
  },
  {
   "cell_type": "code",
   "execution_count": 104,
   "id": "1306623a",
   "metadata": {},
   "outputs": [
    {
     "name": "stdout",
     "output_type": "stream",
     "text": [
      "한 줄 쓰고 그 다음줄에 쓴다.\n"
     ]
    }
   ],
   "source": [
    "print(\"한 줄 쓰고\", end=\"\")\n",
    "## print 함수의 파리미터 end\n",
    "print(\" 그 다음줄에 쓴다.\", end=\"\\n\")\n",
    "## 막줄에서 end = \"\\n\"은 디폴트값"
   ]
  },
  {
   "cell_type": "code",
   "execution_count": 105,
   "id": "e142600d",
   "metadata": {},
   "outputs": [
    {
     "data": {
      "text/plain": [
       "'서울'"
      ]
     },
     "execution_count": 105,
     "metadata": {},
     "output_type": "execute_result"
    }
   ],
   "source": [
    "name = '서울'\n",
    "name"
   ]
  },
  {
   "cell_type": "code",
   "execution_count": 107,
   "id": "229ce11c",
   "metadata": {},
   "outputs": [
    {
     "name": "stdout",
     "output_type": "stream",
     "text": [
      "@@@@@@/n\n"
     ]
    }
   ],
   "source": [
    "print('@'*6 + '/n')"
   ]
  },
  {
   "cell_type": "code",
   "execution_count": 108,
   "id": "171269e1",
   "metadata": {},
   "outputs": [
    {
     "name": "stdout",
     "output_type": "stream",
     "text": [
      "\n",
      "@@@@@@\n",
      "@    @\n",
      "@    @\n",
      "@    @\n",
      "@@@@@@\n",
      "\n"
     ]
    }
   ],
   "source": [
    "# 여러줄의 문자열 출력하기\n",
    "golbang = \"\"\"\n",
    "@@@@@@\n",
    "@    @\n",
    "@    @\n",
    "@    @\n",
    "@@@@@@\n",
    "\"\"\"\n",
    "\n",
    "print(golbang)"
   ]
  },
  {
   "cell_type": "code",
   "execution_count": 110,
   "id": "aea9eb28",
   "metadata": {},
   "outputs": [
    {
     "data": {
      "text/plain": [
       "'2021-05-08'"
      ]
     },
     "execution_count": 110,
     "metadata": {},
     "output_type": "execute_result"
    }
   ],
   "source": [
    "# 문자열 치환\n",
    "## 문자열 객체의 replace 메소드를 갖다쓰기\n",
    "\"2021.05.08\".replace('.','-') # .을 -으로 치환"
   ]
  },
  {
   "cell_type": "code",
   "execution_count": 111,
   "id": "2d226dc5",
   "metadata": {},
   "outputs": [
    {
     "data": {
      "text/plain": [
       "'20210508'"
      ]
     },
     "execution_count": 111,
     "metadata": {},
     "output_type": "execute_result"
    }
   ],
   "source": [
    "'2021-05-08'.replace('-','')"
   ]
  },
  {
   "cell_type": "markdown",
   "id": "1b567b38",
   "metadata": {},
   "source": [
    "### 2.4 파이썬의 문자열 형식화"
   ]
  },
  {
   "cell_type": "code",
   "execution_count": 121,
   "id": "2927ed82",
   "metadata": {},
   "outputs": [
    {
     "data": {
      "text/plain": [
       "'내이름은 동찬 입니다.'"
      ]
     },
     "execution_count": 121,
     "metadata": {},
     "output_type": "execute_result"
    }
   ],
   "source": [
    "# %s - 문자열, %d (digit) - 정수, %f - 실수\n",
    "\"내이름은 %s 입니다.\" %\"동찬\""
   ]
  },
  {
   "cell_type": "code",
   "execution_count": 122,
   "id": "55f4da93",
   "metadata": {},
   "outputs": [
    {
     "data": {
      "text/plain": [
       "'내이름은 12.000000 입니다.'"
      ]
     },
     "execution_count": 122,
     "metadata": {},
     "output_type": "execute_result"
    }
   ],
   "source": [
    "\"내이름은 %f 입니다.\" %12.0 "
   ]
  },
  {
   "cell_type": "code",
   "execution_count": 119,
   "id": "6686d882",
   "metadata": {},
   "outputs": [
    {
     "data": {
      "text/plain": [
       "'내이름은 12.0000000000 입니다.'"
      ]
     },
     "execution_count": 119,
     "metadata": {},
     "output_type": "execute_result"
    }
   ],
   "source": [
    "\"내나이는 %.10f 입니다.\" %12.0  # .10 = 소수점 10자리까지"
   ]
  },
  {
   "cell_type": "code",
   "execution_count": 123,
   "id": "514fc117",
   "metadata": {},
   "outputs": [
    {
     "data": {
      "text/plain": [
       "'내이름은         동찬 입니다.'"
      ]
     },
     "execution_count": 123,
     "metadata": {},
     "output_type": "execute_result"
    }
   ],
   "source": [
    "\"내이름은 %10s 입니다.\" %\"동찬\""
   ]
  },
  {
   "cell_type": "code",
   "execution_count": 126,
   "id": "49b2b42f",
   "metadata": {
    "scrolled": true
   },
   "outputs": [
    {
     "data": {
      "text/plain": [
       "'내나이는 12        입니다.'"
      ]
     },
     "execution_count": 126,
     "metadata": {},
     "output_type": "execute_result"
    }
   ],
   "source": [
    "\"내나이는 %-10d입니다.\" %12"
   ]
  },
  {
   "cell_type": "code",
   "execution_count": 125,
   "id": "e8401e73",
   "metadata": {},
   "outputs": [
    {
     "data": {
      "text/plain": [
       "'2 곱하기 3은 6 이다.'"
      ]
     },
     "execution_count": 125,
     "metadata": {},
     "output_type": "execute_result"
    }
   ],
   "source": [
    "\"%d 곱하기 %d은 %d 이다.\" %(2,3,6)"
   ]
  },
  {
   "cell_type": "code",
   "execution_count": 127,
   "id": "61bbabdd",
   "metadata": {},
   "outputs": [
    {
     "data": {
      "text/plain": [
       "'존 is 27 years old'"
      ]
     },
     "execution_count": 127,
     "metadata": {},
     "output_type": "execute_result"
    }
   ],
   "source": [
    "# Tom is 13 years old\n",
    "name = '존'\n",
    "age  = '27'\n",
    "\"%s is %s years old\"%(name, age)"
   ]
  },
  {
   "cell_type": "code",
   "execution_count": 128,
   "id": "ac718004",
   "metadata": {},
   "outputs": [
    {
     "data": {
      "text/plain": [
       "'존 is 27 years old'"
      ]
     },
     "execution_count": 128,
     "metadata": {},
     "output_type": "execute_result"
    }
   ],
   "source": [
    "\"{} is {} years old\".format('존','27')"
   ]
  },
  {
   "cell_type": "code",
   "execution_count": 135,
   "id": "5fcfdcf8",
   "metadata": {},
   "outputs": [
    {
     "name": "stdout",
     "output_type": "stream",
     "text": [
      "존 is 27 years old\n"
     ]
    }
   ],
   "source": [
    "# f문자열\n",
    "name = '존' ; age  = '27'\n",
    "f\"{name} is {age} years old\"\n",
    "print( f\"{name} is {age} years old\" )"
   ]
  },
  {
   "cell_type": "code",
   "execution_count": 133,
   "id": "8a925250",
   "metadata": {},
   "outputs": [
    {
     "data": {
      "text/plain": [
       "'[*-------------------]'"
      ]
     },
     "execution_count": 133,
     "metadata": {},
     "output_type": "execute_result"
    }
   ],
   "source": [
    "\"[{:-<20}]\".format(\"*\")\n",
    "# 외울필요 x"
   ]
  },
  {
   "cell_type": "code",
   "execution_count": 137,
   "id": "2ea9fdd6",
   "metadata": {},
   "outputs": [
    {
     "data": {
      "text/plain": [
       "\"(1000, ',')\""
      ]
     },
     "execution_count": 137,
     "metadata": {},
     "output_type": "execute_result"
    }
   ],
   "source": [
    "age = 1000\n",
    "f\"{age, ','}\""
   ]
  },
  {
   "cell_type": "code",
   "execution_count": 2,
   "id": "a11a76c1",
   "metadata": {},
   "outputs": [],
   "source": [
    "age =1000"
   ]
  },
  {
   "cell_type": "code",
   "execution_count": 3,
   "id": "d869fc6e",
   "metadata": {},
   "outputs": [
    {
     "data": {
      "text/plain": [
       "'1,000'"
      ]
     },
     "execution_count": 3,
     "metadata": {},
     "output_type": "execute_result"
    }
   ],
   "source": [
    "\"{:,}\".format(age)"
   ]
  }
 ],
 "metadata": {
  "kernelspec": {
   "display_name": "Python 3",
   "language": "python",
   "name": "python3"
  },
  "language_info": {
   "codemirror_mode": {
    "name": "ipython",
    "version": 3
   },
   "file_extension": ".py",
   "mimetype": "text/x-python",
   "name": "python",
   "nbconvert_exporter": "python",
   "pygments_lexer": "ipython3",
   "version": "3.8.8"
  }
 },
 "nbformat": 4,
 "nbformat_minor": 5
}
