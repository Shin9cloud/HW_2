{
 "cells": [
  {
   "cell_type": "code",
   "execution_count": 1,
   "id": "1cc138d3",
   "metadata": {},
   "outputs": [
    {
     "name": "stdout",
     "output_type": "stream",
     "text": [
      "홀수\n"
     ]
    }
   ],
   "source": [
    "a = 1\n",
    "\n",
    "if a % 2 == 0:\n",
    "    print(\"짝수\")\n",
    "else:\n",
    "    print(\"홀수\")"
   ]
  },
  {
   "cell_type": "markdown",
   "id": "7be87123",
   "metadata": {},
   "source": [
    "## 2.5.2\n",
    "\n",
    "변수 y의 값이 윤년이면 “윤년입니다”를 출력하고 아니라면 “윤년이 아닙니다”라고 출력하는 프로그램을 만든다. 윤년은 2월 29일이 있는 해로 다음과 같이 정해진다.\n",
    "\n",
    "서력 기원 연수가 4로 나누어 떨어지는 해는 윤년으로 한다(2004년, 2008년, 2012년, 2016년, 2020년, 2024년, …).\n",
    "\n",
    "이 중에서 100으로 나누어 떨어지는 해는 평년으로 한다(1900년, 2100년, 2200년, 2300년, 2500년, …).\n",
    "\n",
    "이 중에서 400으로 나누어 떨어지는 해는 윤년으로 둔다(1600년, 2000년, 2400년, …)."
   ]
  },
  {
   "cell_type": "code",
   "execution_count": 10,
   "id": "5ca4f9b0",
   "metadata": {},
   "outputs": [
    {
     "name": "stdout",
     "output_type": "stream",
     "text": [
      "윤년이 아닙니다.\n"
     ]
    }
   ],
   "source": [
    "y = 1601\n",
    "\n",
    "if y % 4 == 0:\n",
    "    if y % 100 == 0:\n",
    "        if y % 400 ==0 :\n",
    "            print('윤년입니다.')\n",
    "        else:\n",
    "            print('평년입니다.')\n",
    "    else:\n",
    "        print('윤년입니다.')\n",
    "else:\n",
    "    print('윤년이 아닙니다.')"
   ]
  },
  {
   "cell_type": "markdown",
   "id": "b19c4e3c",
   "metadata": {},
   "source": [
    "죄수의 딜레마는 게임 이론의 유명한 사례이다\n",
    "\n",
    "https://ko.wikipedia.org/wiki/죄수의_딜레마\n",
    "\n",
    "두 명의 범죄자 A, B가 체포되어 서로 다른 취조실에서 격리되어 심문을 받고 있다. 이들에게 자백 여부에 따라 다음의 선택이 가능하다.\n",
    "\n",
    "둘 중 하나가 배신하여 죄를 자백하면 자백한 사람은 즉시 풀어주고 나머지 한 명이 10년을 복역해야 한다.\n",
    "\n",
    "둘 모두 서로를 배신하여 죄를 자백하면 둘 다 5년을 복역한다.\n",
    "\n",
    "둘 모두 죄를 자백하지 않으면 둘 다 1년을 복역한다.\n",
    "\n",
    "죄수를 나타내는 변수 XA, XB는 자백하면 True, 그렇지 않으면 False를 가지는 값이다. 이때 변수 XA, XB 값에 따라 각각이 복역해야 하는 연 수를 변수 YA, YB라고 할 때 YA, YB를 계산하는 프로그램을 만든다."
   ]
  },
  {
   "cell_type": "code",
   "execution_count": 12,
   "id": "ef4d6bbe",
   "metadata": {},
   "outputs": [
    {
     "name": "stdout",
     "output_type": "stream",
     "text": [
      "XA = 1, XB = 0, YA = 1, YB = 1\n"
     ]
    }
   ],
   "source": [
    "XA = True\n",
    "XB = False\n",
    "\n",
    "if XA == True & XB == False:\n",
    "    YA = 0\n",
    "    YB =10\n",
    "elif XA == False & XB == True:\n",
    "    YA =10\n",
    "    YB =0\n",
    "elif XA ==True & XB == True:\n",
    "    YA = YB = 5\n",
    "else: YA = YB =1\n",
    "    \n",
    "print(\"XA = %d, XB = %d, YA = %d, YB = %d\"%(XA,XB,YA,YB))"
   ]
  },
  {
   "cell_type": "markdown",
   "id": "27245b91",
   "metadata": {},
   "source": [
    "\"&\"연산자는 연산순서 때문에 괄호안치면 연산오류남"
   ]
  },
  {
   "cell_type": "code",
   "execution_count": 14,
   "id": "5f5e3593",
   "metadata": {},
   "outputs": [
    {
     "name": "stdout",
     "output_type": "stream",
     "text": [
      "XA = 1, XB = 0, YA = 0, YB = 10\n"
     ]
    }
   ],
   "source": [
    "#방법 1\n",
    "XA = True\n",
    "XB = False\n",
    "\n",
    "if XA == True and XB == False:\n",
    "    YA = 0\n",
    "    YB =10\n",
    "elif XA == False and XB == True:\n",
    "    YA =10\n",
    "    YB =0\n",
    "elif XA ==True and XB == True:\n",
    "    YA = YB = 5\n",
    "else: YA = YB =1\n",
    "    \n",
    "print(\"XA = %d, XB = %d, YA = %d, YB = %d\"%(XA,XB,YA,YB))"
   ]
  },
  {
   "cell_type": "code",
   "execution_count": 15,
   "id": "01d8d298",
   "metadata": {
    "scrolled": true
   },
   "outputs": [
    {
     "name": "stdout",
     "output_type": "stream",
     "text": [
      "XA = 1, XB = 0, YA = 0, YB = 10\n"
     ]
    }
   ],
   "source": [
    "#방법 2\n",
    "XA = True\n",
    "XB = False\n",
    "\n",
    "if (XA == True) & (XB == False):\n",
    "    YA = 0\n",
    "    YB =10\n",
    "elif (XA == False) & (XB == True):\n",
    "    YA =10\n",
    "    YB =0\n",
    "elif (XA ==True) & (XB == True):\n",
    "    YA = YB = 5\n",
    "else: YA = YB =1\n",
    "    \n",
    "print(\"XA = %d, XB = %d, YA = %d, YB = %d\"%(XA,XB,YA,YB))"
   ]
  },
  {
   "cell_type": "code",
   "execution_count": 16,
   "id": "11a125d9",
   "metadata": {},
   "outputs": [],
   "source": [
    "def twotimes(x):\n",
    "    y = 2 * x\n",
    "    return y"
   ]
  },
  {
   "cell_type": "code",
   "execution_count": 18,
   "id": "86dd8283",
   "metadata": {
    "scrolled": true
   },
   "outputs": [
    {
     "data": {
      "text/plain": [
       "10"
      ]
     },
     "execution_count": 18,
     "metadata": {},
     "output_type": "execute_result"
    }
   ],
   "source": [
    "twotimes(5)"
   ]
  },
  {
   "cell_type": "code",
   "execution_count": 22,
   "id": "cd444053",
   "metadata": {
    "scrolled": false
   },
   "outputs": [
    {
     "data": {
      "text/plain": [
       "9"
      ]
     },
     "execution_count": 22,
     "metadata": {},
     "output_type": "execute_result"
    }
   ],
   "source": [
    "threetimes(3)"
   ]
  },
  {
   "cell_type": "code",
   "execution_count": 21,
   "id": "f29734db",
   "metadata": {},
   "outputs": [],
   "source": [
    "def threetimes(x):\n",
    "    y = 3 * x\n",
    "    return y"
   ]
  },
  {
   "cell_type": "markdown",
   "id": "e79ba8a5",
   "metadata": {},
   "source": [
    "짝수가 입력되면 짝수라는 문자열을, 홀수가 입력되면 홀수라는 문자열을 반환하는 함수를 만든다.\n",
    "\n",
    "윤년을 나타나는 수가 입력되면 윤년이라는 문자열을, 그렇지 않은 수가 입력되면 평년이라는 문자열을 반환하는 함수를 만든다."
   ]
  },
  {
   "cell_type": "code",
   "execution_count": 23,
   "id": "cd2decea",
   "metadata": {},
   "outputs": [],
   "source": [
    "def 윤년판단(y):\n",
    "    if y % 4 == 0:\n",
    "        if y % 100 == 0:\n",
    "            if y % 400 ==0 :\n",
    "                print('윤년')\n",
    "            else:\n",
    "                print('평년')\n",
    "        else:\n",
    "            print('윤년')\n",
    "    else:\n",
    "        print('평년')"
   ]
  },
  {
   "cell_type": "code",
   "execution_count": 24,
   "id": "855cd083",
   "metadata": {},
   "outputs": [
    {
     "name": "stdout",
     "output_type": "stream",
     "text": [
      "윤년\n"
     ]
    }
   ],
   "source": [
    "윤년판단(2000)"
   ]
  },
  {
   "cell_type": "markdown",
   "id": "49744a44",
   "metadata": {},
   "source": [
    "평년일 때 1, 3, 5, 7, 8, 10, 12 월은 31일, 4, 6, 9, 11월은 30일, 2월은 28일이다. 월을 나타내는 숫자를 입력하면 그 달의 날짜 수를 반환하는 함수 days1 를 만든다. 사용 예는 다음과 같다."
   ]
  },
  {
   "cell_type": "code",
   "execution_count": 30,
   "id": "9766247c",
   "metadata": {},
   "outputs": [],
   "source": [
    "def days1(x):\n",
    "#     if ( y == '평년') :\n",
    "        if (x == 1 or x ==3 or x == 5 or x ==7 or x ==8 or x ==10 or x ==12):\n",
    "            return 31\n",
    "        elif (x ==4 or  x == 6 or  x == 9 or x ==11):\n",
    "            return 30\n",
    "        elif ( x==2):\n",
    "            return 28\n",
    "        else:\n",
    "            return 0 # 오류입니다.\n",
    "    "
   ]
  },
  {
   "cell_type": "code",
   "execution_count": 31,
   "id": "f4acba4c",
   "metadata": {},
   "outputs": [
    {
     "data": {
      "text/plain": [
       "30"
      ]
     },
     "execution_count": 31,
     "metadata": {},
     "output_type": "execute_result"
    }
   ],
   "source": [
    "days1(11)"
   ]
  },
  {
   "cell_type": "code",
   "execution_count": 39,
   "id": "0178bc00",
   "metadata": {},
   "outputs": [],
   "source": [
    "def days1(y, x):\n",
    "    if ( y == '평년') :\n",
    "        if (x == 1 or x ==3 or x == 5 or x ==7 or x ==8 or x ==10 or x ==12):\n",
    "            return 31\n",
    "        elif (x ==4 or  x == 6 or  x == 9 or x ==11):\n",
    "            return 30\n",
    "        elif ( x==2):\n",
    "            if (y == '평년'):\n",
    "                return 28\n",
    "            else:\n",
    "                return 29\n",
    "        else:\n",
    "            return 0 # 오류입니다.\n",
    "        \n",
    "    "
   ]
  },
  {
   "cell_type": "code",
   "execution_count": 40,
   "id": "a6b4b8d5",
   "metadata": {},
   "outputs": [],
   "source": [
    "def days2(y, x):\n",
    "        if (x == 1 or x ==3 or x == 5 or x ==7 or x ==8 or x ==10 or x ==12):\n",
    "            return 31\n",
    "        elif (x ==4 or  x == 6 or  x == 9 or x ==11):\n",
    "            return 30\n",
    "        elif ( x==2):\n",
    "            if ( (y% 4 ==0 and y % 100 !=0) or y % 400 ==0):\n",
    "                return 29\n",
    "            else:\n",
    "                return 28\n",
    "        else:\n",
    "            return 0 # 오류입니다.\n",
    "        \n",
    "    "
   ]
  },
  {
   "cell_type": "code",
   "execution_count": 42,
   "id": "014e4516",
   "metadata": {},
   "outputs": [
    {
     "data": {
      "text/plain": [
       "29"
      ]
     },
     "execution_count": 42,
     "metadata": {},
     "output_type": "execute_result"
    }
   ],
   "source": [
    "days2(2000,2)"
   ]
  },
  {
   "cell_type": "code",
   "execution_count": 44,
   "id": "1cf21ed1",
   "metadata": {},
   "outputs": [
    {
     "data": {
      "text/plain": [
       "28"
      ]
     },
     "execution_count": 44,
     "metadata": {},
     "output_type": "execute_result"
    }
   ],
   "source": [
    "days2(2001, 2)"
   ]
  },
  {
   "cell_type": "markdown",
   "id": "5490f247",
   "metadata": {},
   "source": [
    "3개의 숫자를 입력하면 “그 숫자들의 합”과 “그 숫자들을 제곱한 숫자들의 합”의 차이(큰 수에서 작을 수를 뺀 값)를 계산하는 함수 diffsum를 만든다. 큰 수에서 작은 수를 뺀 결과이므로 항상 0보다 크거나 0과 같아야 한다."
   ]
  },
  {
   "cell_type": "code",
   "execution_count": 45,
   "id": "9247d9b8",
   "metadata": {},
   "outputs": [],
   "source": [
    "def diffsum(x,y,z):\n",
    "    sum = x+y+z\n",
    "    square = x **2 +y **2 + z **2\n",
    "    return square - sum"
   ]
  },
  {
   "cell_type": "markdown",
   "id": "8034b574",
   "metadata": {},
   "source": [
    "함수 바깥에 m 이라는 전역 변수를 만들고 그 값을 0으로 놓는다. 앞에서 만든 diffsum 함수를 고쳐서 diffsum 함수와 같은 값을 반환하지만 함수를 실행할 때 마다 diffsum 함수에서 계산된 값이 원래 있던 m보다 크면 m을 계산된 값으로 바꾸는 함수 diffsum2 를 만든다."
   ]
  },
  {
   "cell_type": "code",
   "execution_count": 46,
   "id": "b1a277ff",
   "metadata": {
    "scrolled": false
   },
   "outputs": [
    {
     "ename": "UnboundLocalError",
     "evalue": "local variable 'm' referenced before assignment",
     "output_type": "error",
     "traceback": [
      "\u001b[1;31m---------------------------------------------------------------------------\u001b[0m",
      "\u001b[1;31mUnboundLocalError\u001b[0m                         Traceback (most recent call last)",
      "\u001b[1;32m<ipython-input-46-1dd6c754bddd>\u001b[0m in \u001b[0;36m<module>\u001b[1;34m\u001b[0m\n\u001b[0;32m      7\u001b[0m     \u001b[1;32mif\u001b[0m \u001b[1;33m(\u001b[0m\u001b[0mresult\u001b[0m \u001b[1;33m>\u001b[0m \u001b[0mm\u001b[0m\u001b[1;33m)\u001b[0m\u001b[1;33m:\u001b[0m\u001b[1;33m\u001b[0m\u001b[1;33m\u001b[0m\u001b[0m\n\u001b[0;32m      8\u001b[0m         \u001b[0mm\u001b[0m \u001b[1;33m=\u001b[0m \u001b[0mresult\u001b[0m\u001b[1;33m\u001b[0m\u001b[1;33m\u001b[0m\u001b[0m\n\u001b[1;32m----> 9\u001b[1;33m \u001b[0mdiffsum2\u001b[0m\u001b[1;33m(\u001b[0m\u001b[1;36m2\u001b[0m\u001b[1;33m,\u001b[0m\u001b[1;36m3\u001b[0m\u001b[1;33m,\u001b[0m\u001b[1;36m4\u001b[0m\u001b[1;33m)\u001b[0m\u001b[1;33m\u001b[0m\u001b[1;33m\u001b[0m\u001b[0m\n\u001b[0m\u001b[0;32m     10\u001b[0m \u001b[0mm\u001b[0m\u001b[1;33m\u001b[0m\u001b[1;33m\u001b[0m\u001b[0m\n",
      "\u001b[1;32m<ipython-input-46-1dd6c754bddd>\u001b[0m in \u001b[0;36mdiffsum2\u001b[1;34m(x, y, z)\u001b[0m\n\u001b[0;32m      5\u001b[0m     \u001b[0msquare\u001b[0m \u001b[1;33m=\u001b[0m \u001b[0mx\u001b[0m \u001b[1;33m**\u001b[0m\u001b[1;36m2\u001b[0m \u001b[1;33m+\u001b[0m\u001b[0my\u001b[0m \u001b[1;33m**\u001b[0m\u001b[1;36m2\u001b[0m \u001b[1;33m+\u001b[0m \u001b[0mz\u001b[0m \u001b[1;33m**\u001b[0m\u001b[1;36m2\u001b[0m\u001b[1;33m\u001b[0m\u001b[1;33m\u001b[0m\u001b[0m\n\u001b[0;32m      6\u001b[0m     \u001b[0mresult\u001b[0m \u001b[1;33m=\u001b[0m \u001b[0msquare\u001b[0m \u001b[1;33m-\u001b[0m \u001b[0msum\u001b[0m\u001b[1;33m\u001b[0m\u001b[1;33m\u001b[0m\u001b[0m\n\u001b[1;32m----> 7\u001b[1;33m     \u001b[1;32mif\u001b[0m \u001b[1;33m(\u001b[0m\u001b[0mresult\u001b[0m \u001b[1;33m>\u001b[0m \u001b[0mm\u001b[0m\u001b[1;33m)\u001b[0m\u001b[1;33m:\u001b[0m\u001b[1;33m\u001b[0m\u001b[1;33m\u001b[0m\u001b[0m\n\u001b[0m\u001b[0;32m      8\u001b[0m         \u001b[0mm\u001b[0m \u001b[1;33m=\u001b[0m \u001b[0mresult\u001b[0m\u001b[1;33m\u001b[0m\u001b[1;33m\u001b[0m\u001b[0m\n\u001b[0;32m      9\u001b[0m \u001b[0mdiffsum2\u001b[0m\u001b[1;33m(\u001b[0m\u001b[1;36m2\u001b[0m\u001b[1;33m,\u001b[0m\u001b[1;36m3\u001b[0m\u001b[1;33m,\u001b[0m\u001b[1;36m4\u001b[0m\u001b[1;33m)\u001b[0m\u001b[1;33m\u001b[0m\u001b[1;33m\u001b[0m\u001b[0m\n",
      "\u001b[1;31mUnboundLocalError\u001b[0m: local variable 'm' referenced before assignment"
     ]
    }
   ],
   "source": [
    "m = 0\n",
    "\n",
    "def diffsum2(x,y,z):\n",
    "    sum = x+y+z\n",
    "    square = x **2 +y **2 + z **2\n",
    "    result = square - sum\n",
    "    if (result > m):\n",
    "        m = result\n",
    "diffsum2(2,3,4)\n",
    "m"
   ]
  },
  {
   "cell_type": "code",
   "execution_count": 47,
   "id": "d956a0db",
   "metadata": {},
   "outputs": [
    {
     "data": {
      "text/plain": [
       "20"
      ]
     },
     "execution_count": 47,
     "metadata": {},
     "output_type": "execute_result"
    }
   ],
   "source": [
    "m = 0\n",
    "\n",
    "def diffsum2(x,y,z):\n",
    "    global m ## 변수 m을 전역변수화\n",
    "    sum = x+y+z\n",
    "    square = x **2 +y **2 + z **2\n",
    "    result = square - sum\n",
    "    if (result > m):\n",
    "        m = result\n",
    "diffsum2(2,3,4)\n",
    "m"
   ]
  }
 ],
 "metadata": {
  "kernelspec": {
   "display_name": "Python 3",
   "language": "python",
   "name": "python3"
  },
  "language_info": {
   "codemirror_mode": {
    "name": "ipython",
    "version": 3
   },
   "file_extension": ".py",
   "mimetype": "text/x-python",
   "name": "python",
   "nbconvert_exporter": "python",
   "pygments_lexer": "ipython3",
   "version": "3.8.8"
  }
 },
 "nbformat": 4,
 "nbformat_minor": 5
}
